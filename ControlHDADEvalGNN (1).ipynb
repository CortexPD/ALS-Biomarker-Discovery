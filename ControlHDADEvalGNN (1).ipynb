{
  "cells": [
    {
      "cell_type": "code",
      "execution_count": null,
      "metadata": {
        "colab": {
          "base_uri": "https://localhost:8080/"
        },
        "id": "30vtvp8kXD48",
        "outputId": "e28ae783-6776-406e-e76f-24ac640f007b"
      },
      "outputs": [
        {
          "name": "stdout",
          "output_type": "stream",
          "text": [
            "Collecting torch_geometric\n",
            "  Downloading torch_geometric-2.6.1-py3-none-any.whl.metadata (63 kB)\n",
            "\u001b[?25l     \u001b[90m━━━━━━━━━━━━━━━━━━━━━━━━━━━━━━━━━━━━━━━━\u001b[0m \u001b[32m0.0/63.1 kB\u001b[0m \u001b[31m?\u001b[0m eta \u001b[36m-:--:--\u001b[0m\r\u001b[2K     \u001b[90m━━━━━━━━━━━━━━━━━━━━━━━━━━━━━━━━━━━━━━━━\u001b[0m \u001b[32m63.1/63.1 kB\u001b[0m \u001b[31m1.6 MB/s\u001b[0m eta \u001b[36m0:00:00\u001b[0m\n",
            "\u001b[?25hRequirement already satisfied: aiohttp in /usr/local/lib/python3.11/dist-packages (from torch_geometric) (3.11.12)\n",
            "Requirement already satisfied: fsspec in /usr/local/lib/python3.11/dist-packages (from torch_geometric) (2024.10.0)\n",
            "Requirement already satisfied: jinja2 in /usr/local/lib/python3.11/dist-packages (from torch_geometric) (3.1.5)\n",
            "Requirement already satisfied: numpy in /usr/local/lib/python3.11/dist-packages (from torch_geometric) (1.26.4)\n",
            "Requirement already satisfied: psutil>=5.8.0 in /usr/local/lib/python3.11/dist-packages (from torch_geometric) (5.9.5)\n",
            "Requirement already satisfied: pyparsing in /usr/local/lib/python3.11/dist-packages (from torch_geometric) (3.2.1)\n",
            "Requirement already satisfied: requests in /usr/local/lib/python3.11/dist-packages (from torch_geometric) (2.32.3)\n",
            "Requirement already satisfied: tqdm in /usr/local/lib/python3.11/dist-packages (from torch_geometric) (4.67.1)\n",
            "Requirement already satisfied: aiohappyeyeballs>=2.3.0 in /usr/local/lib/python3.11/dist-packages (from aiohttp->torch_geometric) (2.4.6)\n",
            "Requirement already satisfied: aiosignal>=1.1.2 in /usr/local/lib/python3.11/dist-packages (from aiohttp->torch_geometric) (1.3.2)\n",
            "Requirement already satisfied: attrs>=17.3.0 in /usr/local/lib/python3.11/dist-packages (from aiohttp->torch_geometric) (25.1.0)\n",
            "Requirement already satisfied: frozenlist>=1.1.1 in /usr/local/lib/python3.11/dist-packages (from aiohttp->torch_geometric) (1.5.0)\n",
            "Requirement already satisfied: multidict<7.0,>=4.5 in /usr/local/lib/python3.11/dist-packages (from aiohttp->torch_geometric) (6.1.0)\n",
            "Requirement already satisfied: propcache>=0.2.0 in /usr/local/lib/python3.11/dist-packages (from aiohttp->torch_geometric) (0.3.0)\n",
            "Requirement already satisfied: yarl<2.0,>=1.17.0 in /usr/local/lib/python3.11/dist-packages (from aiohttp->torch_geometric) (1.18.3)\n",
            "Requirement already satisfied: MarkupSafe>=2.0 in /usr/local/lib/python3.11/dist-packages (from jinja2->torch_geometric) (3.0.2)\n",
            "Requirement already satisfied: charset-normalizer<4,>=2 in /usr/local/lib/python3.11/dist-packages (from requests->torch_geometric) (3.4.1)\n",
            "Requirement already satisfied: idna<4,>=2.5 in /usr/local/lib/python3.11/dist-packages (from requests->torch_geometric) (3.10)\n",
            "Requirement already satisfied: urllib3<3,>=1.21.1 in /usr/local/lib/python3.11/dist-packages (from requests->torch_geometric) (2.3.0)\n",
            "Requirement already satisfied: certifi>=2017.4.17 in /usr/local/lib/python3.11/dist-packages (from requests->torch_geometric) (2025.1.31)\n",
            "Downloading torch_geometric-2.6.1-py3-none-any.whl (1.1 MB)\n",
            "\u001b[2K   \u001b[90m━━━━━━━━━━━━━━━━━━━━━━━━━━━━━━━━━━━━━━━━\u001b[0m \u001b[32m1.1/1.1 MB\u001b[0m \u001b[31m16.7 MB/s\u001b[0m eta \u001b[36m0:00:00\u001b[0m\n",
            "\u001b[?25hInstalling collected packages: torch_geometric\n",
            "Successfully installed torch_geometric-2.6.1\n"
          ]
        }
      ],
      "source": [
        "import numpy as np\n",
        "import pandas as pd\n",
        "import tensorflow as tf\n",
        "from tensorflow import keras\n",
        "from tensorflow.keras.models import Sequential\n",
        "from tensorflow.keras.layers import Dense, Dropout, Conv1D, MaxPooling1D, Flatten\n",
        "from tensorflow.keras.optimizers import Adam\n",
        "from tensorflow.keras.preprocessing.image import ImageDataGenerator\n",
        "from tensorflow.keras import layers, models\n",
        "from tensorflow.keras.callbacks import Callback\n",
        "from sklearn.model_selection import train_test_split\n",
        "from sklearn.metrics import accuracy_score, classification_report, confusion_matrix, ConfusionMatrixDisplay, roc_curve, roc_auc_score\n",
        "from sklearn.metrics.pairwise import cosine_similarity\n",
        "from sklearn.preprocessing import StandardScaler\n",
        "from sklearn.utils.class_weight import compute_class_weight\n",
        "from sklearn.decomposition import PCA\n",
        "from sklearn.neighbors import kneighbors_graph\n",
        "from sklearn.manifold import TSNE\n",
        "from sklearn.svm import SVC\n",
        "from imblearn.over_sampling import SMOTE\n",
        "import matplotlib.pyplot as plt\n",
        "import torch\n",
        "from torch.nn import Linear, Dropout\n",
        "import torch.nn.functional as F\n",
        "from torch_geometric.data import Data\n",
        "from torch_geometric.nn import GCNConv, GATConv, SAGEConv\n",
        "from torch_geometric.utils import add_self_loops"
      ]
    },
    {
      "cell_type": "code",
      "execution_count": null,
      "metadata": {},
      "outputs": [],
      "source": [
        "data = pd.read_csv('Untitled.csv')\n",
        "data = data.T\n",
        "data.columns = data.iloc[0]\n",
        "data = data[1:]\n",
        "data = data.iloc[1:]\n",
        "data.fillna(data.mean(), inplace=True)"
      ]
    },
    {
      "cell_type": "code",
      "execution_count": null,
      "metadata": {},
      "outputs": [],
      "source": [
        "dataAD = data[data['Diagnosis'] != 0]\n",
        "dataAD['Diagnosis'] = dataAD['Diagnosis'] - 1\n",
        "data1_y = pd.to_numeric(dataAD['Diagnosis'], errors='coerce').astype('Int64')\n",
        "data1_X = dataAD.drop('Diagnosis', axis=1)\n",
        "data1_X = data1_X.iloc[:, :-1]\n",
        "train_xs, test_xs, train_y, test_y = train_test_split(\n",
        "    data1_X,\n",
        "    data1_y,\n",
        "    test_size=0.2,\n",
        "    random_state=42,\n",
        "    stratify=data1_y\n",
        ")"
      ]
    },
    {
      "cell_type": "code",
      "execution_count": null,
      "metadata": {
        "colab": {
          "base_uri": "https://localhost:8080/"
        },
        "id": "q_Bcj9y5Xv4r",
        "outputId": "1924ad84-30a8-4ba0-c536-8ad16b3364ac"
      },
      "outputs": [
        {
          "name": "stdout",
          "output_type": "stream",
          "text": [
            "Node features shape: torch.Size([314, 250])\n",
            "Labels shape: torch.Size([314])\n",
            "Edge index shape: torch.Size([2, 1884])\n",
            "Training nodes: 251, Testing nodes: 63\n"
          ]
        }
      ],
      "source": [
        "device = torch.device(\"cuda\" if torch.cuda.is_available() else \"cpu\")\n",
        "\n",
        "train_xs = train_xs.to_numpy() if hasattr(train_xs, 'to_numpy') else np.array(train_xs)\n",
        "train_y = train_y.to_numpy() if hasattr(train_y, 'to_numpy') else np.array(train_y)\n",
        "test_xs = test_xs.to_numpy() if hasattr(test_xs, 'to_numpy') else np.array(test_xs)\n",
        "test_y = test_y.to_numpy() if hasattr(test_y, 'to_numpy') else np.array(test_y)\n",
        "\n",
        "pca = PCA(n_components=250)\n",
        "reduced_train_xs = pca.fit_transform(train_xs)\n",
        "reduced_test_xs = pca.transform(test_xs)\n",
        "combined_xs = np.concatenate([reduced_train_xs, reduced_test_xs], axis=0)\n",
        "combined_y = np.concatenate([train_y, test_y], axis=0)\n",
        "num_train = train_xs.shape[0]\n",
        "train_mask = torch.zeros(combined_xs.shape[0], dtype=torch.bool)\n",
        "test_mask = torch.zeros(combined_xs.shape[0], dtype=torch.bool)\n",
        "train_mask[:num_train] = True\n",
        "test_mask[num_train:] = True\n",
        "\n",
        "x = torch.tensor(combined_xs, dtype=torch.float)\n",
        "y = torch.tensor(combined_y, dtype=torch.long)\n",
        "\n",
        "k = 5\n",
        "knn_adj_matrix = kneighbors_graph(combined_xs, n_neighbors=k, mode='connectivity').toarray()\n",
        "edge_index = np.array(np.nonzero(knn_adj_matrix))\n",
        "edge_index = torch.tensor(edge_index, dtype=torch.long)\n",
        "\n",
        "edge_index, _ = add_self_loops(edge_index)\n",
        "data = Data(x=x, y=y, edge_index=edge_index, train_mask=train_mask, test_mask=test_mask).to(device)\n",
        "\n",
        "print(f\"Node features shape: {data.x.shape}\")\n",
        "print(f\"Labels shape: {data.y.shape}\")\n",
        "print(f\"Edge index shape: {data.edge_index.shape}\")\n",
        "print(f\"Training nodes: {data.train_mask.sum().item()}, Testing nodes: {data.test_mask.sum().item()}\")"
      ]
    },
    {
      "cell_type": "code",
      "execution_count": null,
      "metadata": {
        "colab": {
          "base_uri": "https://localhost:8080/",
          "height": 962
        },
        "id": "Hk8KRfNzXzq4",
        "outputId": "a0522c8c-5184-4d34-f9ef-fd1011d96e84"
      },
      "outputs": [
        {
          "name": "stdout",
          "output_type": "stream",
          "text": [
            "Epoch 10, Loss: 0.1341, Test Accuracy: 0.9206\n",
            "Epoch 20, Loss: 0.0283, Test Accuracy: 0.9365\n",
            "Epoch 30, Loss: 0.0145, Test Accuracy: 0.9683\n",
            "Epoch 40, Loss: 0.0001, Test Accuracy: 0.9365\n",
            "Epoch 50, Loss: 0.0001, Test Accuracy: 0.9683\n",
            "Epoch 60, Loss: 0.0002, Test Accuracy: 0.9683\n",
            "Epoch 70, Loss: 0.0142, Test Accuracy: 0.9683\n",
            "Epoch 80, Loss: 0.0007, Test Accuracy: 0.9365\n",
            "Epoch 90, Loss: 0.0000, Test Accuracy: 0.9524\n",
            "Epoch 100, Loss: 0.0004, Test Accuracy: 0.9683\n",
            "Confusion Matrix:\n",
            "[[30  2]\n",
            " [ 0 31]]\n",
            "\n",
            "Classification Report:\n",
            "              precision    recall  f1-score   support\n",
            "\n",
            "           0       1.00      0.94      0.97        32\n",
            "           1       0.94      1.00      0.97        31\n",
            "\n",
            "    accuracy                           0.97        63\n",
            "   macro avg       0.97      0.97      0.97        63\n",
            "weighted avg       0.97      0.97      0.97        63\n",
            "\n"
          ]
        },
        {
          "data": {
            "image/png": "[encoded data removed]",
            "text/plain": [
              "<Figure size 800x600 with 2 Axes>"
            ]
          },
          "metadata": {},
          "output_type": "display_data"
        }
      ],
      "source": [
        "class GraphSAGEModel(torch.nn.Module):\n",
        "    def __init__(self, input_dim, hidden_dim, output_dim, dropout_rate=0.5):\n",
        "        super(GraphSAGEModel, self).__init__()\n",
        "        self.fc1 = Linear(input_dim, hidden_dim)\n",
        "        self.sage1 = SAGEConv(hidden_dim, hidden_dim)\n",
        "        self.sage2 = SAGEConv(hidden_dim, hidden_dim)\n",
        "        self.dropout = Dropout(dropout_rate)\n",
        "        self.fc2 = Linear(hidden_dim, output_dim)\n",
        "\n",
        "    def forward(self, data):\n",
        "        x, edge_index = data.x, data.edge_index\n",
        "        x = F.relu(self.fc1(x))\n",
        "        x = self.dropout(F.relu(self.sage1(x, edge_index)))\n",
        "        x = self.dropout(F.relu(self.sage2(x, edge_index)))\n",
        "        x = self.fc2(x)\n",
        "        return x\n",
        "\n",
        "data.edge_index, _ = add_self_loops(data.edge_index)\n",
        "\n",
        "k = 5\n",
        "knn_adj_matrix = kneighbors_graph(data.x.cpu().numpy(), n_neighbors=k, mode='connectivity').toarray()\n",
        "edge_index = np.array(np.nonzero(knn_adj_matrix))\n",
        "data.edge_index = torch.tensor(edge_index, dtype=torch.long).to(device)\n",
        "\n",
        "criterion = F.cross_entropy\n",
        "\n",
        "input_dim = data.x.size(1)\n",
        "hidden_dim = 256\n",
        "output_dim = len(torch.unique(data.y))\n",
        "dropout_rate = 0.5\n",
        "\n",
        "model = GraphSAGEModel(input_dim, hidden_dim, output_dim, dropout_rate).to(device)\n",
        "optimizer = torch.optim.Adam(model.parameters(), lr=0.005, weight_decay=5e-4)\n",
        "\n",
        "for epoch in range(100):\n",
        "    model.train()\n",
        "    optimizer.zero_grad()\n",
        "    out = model(data)\n",
        "    loss = criterion(out[data.train_mask], data.y[data.train_mask])\n",
        "    loss.backward()\n",
        "    optimizer.step()\n",
        "\n",
        "    if (epoch + 1) % 10 == 0:\n",
        "        model.eval()\n",
        "        _, pred = out.max(dim=1)\n",
        "        acc = (pred[data.test_mask] == data.y[data.test_mask]).sum().item() / data.test_mask.sum().item()\n",
        "        print(f\"Epoch {epoch+1}, Loss: {loss.item():.4f}, Test Accuracy: {acc:.4f}\")\n",
        "\n",
        "model.eval()\n",
        "_, pred = model(data).max(dim=1)\n",
        "\n",
        "true_labels = data.y[data.test_mask].cpu().numpy()\n",
        "predictions = pred[data.test_mask].cpu().numpy()\n",
        "\n",
        "print(\"Confusion Matrix:\")\n",
        "print(confusion_matrix(true_labels, predictions))\n",
        "print(\"\\nClassification Report:\")\n",
        "print(classification_report(true_labels, predictions))\n",
        "\n",
        "embeddings = model(data).detach().cpu().numpy()\n",
        "tsne = TSNE(n_components=2, random_state=42)\n",
        "embeddings_2d = tsne.fit_transform(embeddings)\n",
        "\n",
        "plt.figure(figsize=(8, 6))\n",
        "plt.scatter(embeddings_2d[:, 0], embeddings_2d[:, 1], c=data.y.cpu().numpy(), cmap='coolwarm', alpha=0.7)\n",
        "plt.colorbar(label='Classes')\n",
        "plt.title(\"t-SNE Visualization of Node Embeddings\")\n",
        "plt.show()\n"
      ]
    },
    {
      "cell_type": "code",
      "execution_count": null,
      "metadata": {
        "id": "B922-7XlgPm0"
      },
      "outputs": [],
      "source": [
        "torch.save(model.state_dict(), 'graphsage_model_weights.pth')\n"
      ]
    },
    {
      "cell_type": "code",
      "execution_count": 13,
      "metadata": {
        "id": "yETpsw-Ce7v7"
      },
      "outputs": [],
      "source": [
        "class GraphSAGEModel(torch.nn.Module):\n",
        "    def __init__(self, input_dim, hidden_dim, output_dim, dropout_rate=0.5):\n",
        "        super(GraphSAGEModel, self).__init__()\n",
        "        self.fc1 = Linear(input_dim, hidden_dim)\n",
        "        self.sage1 = SAGEConv(hidden_dim, hidden_dim)\n",
        "        self.sage2 = SAGEConv(hidden_dim, hidden_dim)\n",
        "        self.dropout = Dropout(dropout_rate)\n",
        "        self.fc2 = Linear(hidden_dim, output_dim)\n",
        "\n",
        "    def forward(self, data):\n",
        "        x, edge_index = data.x, data.edge_index\n",
        "        x = F.relu(self.fc1(x))\n",
        "        x = self.dropout(F.relu(self.sage1(x, edge_index)))\n",
        "        x = self.dropout(F.relu(self.sage2(x, edge_index)))\n",
        "        x = self.fc2(x)\n",
        "        return x"
      ]
    },
    {
      "cell_type": "code",
      "execution_count": null,
      "metadata": {
        "colab": {
          "base_uri": "https://localhost:8080/"
        },
        "id": "1g120Yroe_PE",
        "outputId": "47db6aa3-08d7-4af2-d7ff-7dbe17895369"
      },
      "outputs": [
        {
          "name": "stderr",
          "output_type": "stream",
          "text": [
            "<ipython-input-15-ecdc697c8e23>:9: FutureWarning: You are using `torch.load` with `weights_only=False` (the current default value), which uses the default pickle module implicitly. It is possible to construct malicious pickle data which will execute arbitrary code during unpickling (See https://github.com/pytorch/pytorch/blob/main/SECURITY.md#untrusted-models for more details). In a future release, the default value for `weights_only` will be flipped to `True`. This limits the functions that could be executed during unpickling. Arbitrary objects will no longer be allowed to be loaded via this mode unless they are explicitly allowlisted by the user via `torch.serialization.add_safe_globals`. We recommend you start setting `weights_only=True` for any use case where you don't have full control of the loaded file. Please open an issue on GitHub for any issues related to this experimental feature.\n",
            "  model.load_state_dict(torch.load(\"graphsage_model_weights.pth\"))\n"
          ]
        },
        {
          "data": {
            "text/plain": [
              "GraphSAGEModel(\n",
              "  (fc1): Linear(in_features=250, out_features=256, bias=True)\n",
              "  (sage1): SAGEConv(256, 256, aggr=mean)\n",
              "  (sage2): SAGEConv(256, 256, aggr=mean)\n",
              "  (dropout): Dropout(p=0.5, inplace=False)\n",
              "  (fc2): Linear(in_features=256, out_features=2, bias=True)\n",
              ")"
            ]
          },
          "execution_count": 15,
          "metadata": {},
          "output_type": "execute_result"
        }
      ],
      "source": [
        "input_dim = data.x.size(1)\n",
        "hidden_dim = 256\n",
        "output_dim = len(torch.unique(data.y))\n",
        "dropout_rate = 0.5\n",
        "\n",
        "model = GraphSAGEModel(input_dim=input_dim, hidden_dim=hidden_dim, output_dim=output_dim)\n",
        "\n",
        "model.load_state_dict(torch.load(\"graphsage_model_weights.pth\"))\n",
        "model.eval()"
      ]
    },
    {
      "cell_type": "code",
      "execution_count": 16,
      "metadata": {
        "colab": {
          "base_uri": "https://localhost:8080/"
        },
        "id": "TlZZMWoHfDHM",
        "outputId": "c9b7181b-c620-4ba2-b72c-3601916b2eae"
      },
      "outputs": [
        {
          "name": "stdout",
          "output_type": "stream",
          "text": [
            "Confusion Matrix:\n",
            "[[30  2]\n",
            " [ 0 31]]\n",
            "\n",
            "Classification Report:\n",
            "              precision    recall  f1-score   support\n",
            "\n",
            "           0       1.00      0.94      0.97        32\n",
            "           1       0.94      1.00      0.97        31\n",
            "\n",
            "    accuracy                           0.97        63\n",
            "   macro avg       0.97      0.97      0.97        63\n",
            "weighted avg       0.97      0.97      0.97        63\n",
            "\n"
          ]
        }
      ],
      "source": [
        "_, pred = model(data).max(dim=1)\n",
        "true_labels = data.y[data.test_mask].cpu().numpy()\n",
        "predictions = pred[data.test_mask].cpu().numpy()\n",
        "print(\"Confusion Matrix:\")\n",
        "print(confusion_matrix(true_labels, predictions))\n",
        "print(\"\\nClassification Report:\")\n",
        "print(classification_report(true_labels, predictions))"
      ]
    },
    {
      "cell_type": "code",
      "execution_count": 18,
      "metadata": {
        "id": "F79H_WX3fEaI"
      },
      "outputs": [],
      "source": [
        "model.eval()\n",
        "with torch.no_grad():\n",
        "    logits = model(data)\n",
        "    probabilities = F.softmax(logits, dim=1)\n",
        "test_probs = probabilities[data.test_mask]\n",
        "test_labels = data.y[data.test_mask]\n",
        "test_probs_np = test_probs.cpu().numpy()\n",
        "test_labels_np = test_labels.cpu().numpy()\n",
        "true_labels = np.array([true_labels])"
      ]
    },
    {
      "cell_type": "code",
      "execution_count": null,
      "metadata": {
        "colab": {
          "base_uri": "https://localhost:8080/"
        },
        "id": "BZ6dzlDafO_o",
        "outputId": "dc380fa9-1b96-483c-a567-043b16dc4fd8"
      },
      "outputs": [
        {
          "name": "stdout",
          "output_type": "stream",
          "text": [
            "AUC-ROC score between class 1 and 0: 0.9824\n"
          ]
        }
      ],
      "source": [
        "if hasattr(test_probs, 'cpu'):\n",
        "    test_probs_np = test_probs.cpu().numpy()\n",
        "else:\n",
        "    test_probs_np = test_probs\n",
        "true_labels_np = test_y\n",
        "\n",
        "mask = (true_labels_np == 0) | (true_labels_np == 1)\n",
        "filtered_true = true_labels_np[mask]\n",
        "filtered_pred = test_probs_np[mask]\n",
        "binary_true = (filtered_true == 1).astype(int)\n",
        "binary_pred = filtered_pred[:, 1]\n",
        "auc_roc = roc_auc_score(binary_true, binary_pred)\n",
        "print(f\"AUC-ROC score between class 1 and 0: {auc_roc:.4f}\")"
      ]
    }
  ],
  "metadata": {
    "colab": {
      "provenance": []
    },
    "kernelspec": {
      "display_name": "Python 3",
      "name": "python3"
    },
    "language_info": {
      "name": "python"
    }
  },
  "nbformat": 4,
  "nbformat_minor": 0
}
